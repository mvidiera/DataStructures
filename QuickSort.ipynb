{
 "cells": [
  {
   "cell_type": "code",
   "execution_count": 2,
   "metadata": {
    "id": "v8uA-6GnWKCS"
   },
   "outputs": [],
   "source": [
    "def partition(arr,low,high): # arr = array,low = lower index of array, high = higher index of array\n",
    "  pivot = arr [low] #first element as pivot\n",
    "  i = low # moving index\n",
    "  for j in range(low+1,high+1):         #traversing the array to change ,high+1 as range function dosen't include last element\n",
    "    if arr[j]<=pivot:                   # comparing with pivot and if it is less than or equal then swap it with moving index element\n",
    "      i+=1                              #moving index increased by 1\n",
    "      arr[i],arr[j]=arr[j],arr[i]       #swapping moving  index element  with arr[j]\n",
    "  arr[i],arr[low]= arr[low],arr[i]      #swapping the pivot element with the moving index element\n",
    "  return i                              #moving index"
   ]
  },
  {
   "cell_type": "code",
   "execution_count": 4,
   "metadata": {
    "colab": {
     "base_uri": "https://localhost:8080/"
    },
    "id": "mnZv9dh5Xb09",
    "outputId": "6b144726-e539-4b1b-8b8f-a46cf3eb3c96"
   },
   "outputs": [
    {
     "data": {
      "text/plain": [
       "4"
      ]
     },
     "execution_count": 4,
     "metadata": {},
     "output_type": "execute_result"
    }
   ],
   "source": [
    "arr = [50,70,80,30,40,88,19,27,69]\n",
    "partition(arr,0,8)"
   ]
  },
  {
   "cell_type": "code",
   "execution_count": 5,
   "metadata": {
    "id": "Rts3HZ_SZO6S"
   },
   "outputs": [],
   "source": [
    "def quickSort(arr,low,high): # array = arr, low = lower index of array, high = higher index of array\n",
    "  if len(arr)==1:# small problem  Time complexity : O(1)\n",
    "    return arr\n",
    "  if low<high:# if length of the array is not one\n",
    "      m = partition(arr,low,high) #Time complexity O(n),where n = high-low+1\n",
    "      quickSort(arr,low,m-1)      #T(m-low),m = partition index,left partition recursive call \n",
    "      quickSort(arr,m+1,high)     #T(high-m),m = partition index,right partition recursive call"
   ]
  },
  {
   "cell_type": "code",
   "execution_count": 8,
   "metadata": {
    "id": "Fvyds6n6kYOZ"
   },
   "outputs": [],
   "source": [
    "import time"
   ]
  },
  {
   "cell_type": "code",
   "execution_count": 11,
   "metadata": {
    "colab": {
     "base_uri": "https://localhost:8080/"
    },
    "id": "DWFlsZo9fP8c",
    "outputId": "15cc6f2b-16bc-4723-f123-8834036e7b60"
   },
   "outputs": [
    {
     "name": "stdout",
     "output_type": "stream",
     "text": [
      "[19, 27, 30, 40, 50, 69, 70, 80, 88]\n",
      "Time taken :  0.18072128295898438\n"
     ]
    }
   ],
   "source": [
    "start = time.time()\n",
    "arr=[50,70,80,30,40,88,19,27,69]\n",
    "quickSort(arr,0,8)\n",
    "end = time.time()\n",
    "print(arr)\n",
    "print(\"Time taken : \",(end-start)*1000)"
   ]
  },
  {
   "cell_type": "code",
   "execution_count": 12,
   "metadata": {
    "colab": {
     "base_uri": "https://localhost:8080/"
    },
    "id": "IWE5L-BXfbH2",
    "outputId": "df4d2c63-5eb4-47e9-8f02-bfc0ff8d0a17"
   },
   "outputs": [
    {
     "name": "stdout",
     "output_type": "stream",
     "text": [
      "[1, 2, 3, 4, 5, 6, 7, 8, 9]\n",
      "Time Taken:  2.1736621856689453\n"
     ]
    }
   ],
   "source": [
    "#case I asceding order of array of 9 elements\n",
    "start = time.time()\n",
    "arr1=[1,2,3,4,5,6,7,8,9]\n",
    "quickSort(arr1,0,8)\n",
    "end=time.time()\n",
    "print(arr1)\n",
    "print(\"Time Taken: \",(end-start)*1000)"
   ]
  },
  {
   "cell_type": "code",
   "execution_count": null,
   "metadata": {
    "colab": {
     "base_uri": "https://localhost:8080/"
    },
    "id": "nquEjP8ymQQV",
    "outputId": "6c4324c3-6144-4322-d60e-42456d306a33"
   },
   "outputs": [
    {
     "name": "stdout",
     "output_type": "stream",
     "text": [
      "[1, 2, 3, 4, 5, 6, 7, 8, 9]\n",
      "Time taken:  0.17547607421875\n"
     ]
    }
   ],
   "source": [
    "#case II descending order of array of 9 elements\n",
    "start = time.time()\n",
    "arr2=[9,8,7,6,5,4,3,2,1]\n",
    "quickSort(arr2,0,8)\n",
    "end=time.time()\n",
    "print(arr2)\n",
    "print(\"Time taken: \",(end-start)*1000)"
   ]
  },
  {
   "cell_type": "code",
   "execution_count": null,
   "metadata": {
    "colab": {
     "base_uri": "https://localhost:8080/"
    },
    "id": "cPnhJsK9nB7G",
    "outputId": "2988ce0d-ac82-45e8-f3b1-c8ea5b58c14a"
   },
   "outputs": [
    {
     "name": "stdout",
     "output_type": "stream",
     "text": [
      "[9, 9, 9, 9, 9, 9, 9, 9, 9]\n",
      "Time taken:  0.091552734375\n"
     ]
    }
   ],
   "source": [
    "#caseIII identical element array of 9 elements\n",
    "start= time.time()\n",
    "arr3=[9,9,9,9,9,9,9,9,9]\n",
    "quickSort(arr3,0,8)\n",
    "end=time.time()\n",
    "print(arr3)\n",
    "print(\"Time taken: \",(end-start)*1000)"
   ]
  },
  {
   "cell_type": "markdown",
   "metadata": {
    "id": "dTdpyC4XqTaV"
   },
   "source": [
    "###Identical Case\n",
    "\n",
    " *9*(italic),9,9,9,9,9,9,9,**9**(bold)- elements\n",
    "\n",
    " 0,1,2,3,4,5,6,7,8-index\n",
    "\n",
    "Italic  First 9 is the pivot and bold 9 is the last element,moving index =0\n",
    "\n",
    "In partition algorthim,\n",
    "first pivot 9 index 0 compares with  index(1) 9 as it is <=9 \n",
    "it will swap with moving index +=1 which is 1 that means it will swap with itself,likewise every element will swap it with istelf untill end\n",
    "\n",
    "at last we swap pivot with moving index (8 in this case) then array will become\n",
    "\n",
    "*9*(italic),9,9,9,9,9,9,9,**9**(bold)#before parition\n",
    "\n",
    "**9**(bold),9,9,9,9,9,9,9,*9*(italic)#after partition\n",
    "\n",
    "partition will return index 8 \n",
    "\n",
    "so left quicksort recursive call  will take 7 element array and\n",
    "and after each iteration it will reduce by 1\n",
    "\n",
    "right recursive will never run as high < low in right recursive call\n",
    "\n",
    "So Recurrence relation is T(n) = T(n-1) +n,So time complexity O(n^2)"
   ]
  },
  {
   "cell_type": "markdown",
   "metadata": {
    "id": "3dysyWzSusS1"
   },
   "source": [
    "###descending case\n",
    "\n",
    "9,8,7,6,5,4,3,2,1 Before partition function\n",
    "\n",
    "1,8,7,6,5,4,3,2,9 After partition function\n",
    "\n",
    "Same as Identical case in partition all elements will swap with themselves\n",
    "and at last pivot swapped with last element\n",
    "\n",
    "and left quicksort recursive call will take [1,8,7,6,5,4,3,2]\n",
    "and right quicksort recursive call won't run as low >high\n",
    "\n",
    "In first iteration  \n",
    "\n",
    "1,8,7,6,5,4,3,2 # before partition function\n",
    "\n",
    "2,8,7,6,5,4,3,1#after parition function\n",
    "\n",
    "so again  left recursive will take n-1 array\n",
    "\n",
    " right recursive won't run as high< low in recursive call\n",
    "\n",
    "Similar to identical.\n",
    "\n",
    "So time complexity T(n)=T(n-1)+n, O(n^2)\n",
    "\n"
   ]
  },
  {
   "cell_type": "markdown",
   "metadata": {
    "id": "Dl2q4Yz9wtH1"
   },
   "source": [
    "###ascending case\n",
    "\n",
    "1,2,3,4,5,6,7,8,9 Before partition function\n",
    "\n",
    "1,2,3,4,5,6,7,8,9 after partiion function \n",
    "\n",
    "both are same as now swaps take place in loop and end of loop \n",
    "pivot will swap with moving index = 0 that is same as pivot because\n",
    "it isn't moved in this case\n",
    "\n",
    "partition function will return  index 0\n",
    "\n",
    "now left recursive call will never run as low>high(m-1 which is -1)\n",
    "\n",
    "and right recursive call will take [2,3,4,5,6,7,8,9] \n",
    "\n",
    "for each recursive call array length is reduced by 1\n",
    "\n",
    "so time complexity, T(n) = T(n-1) + n, O(n^2)\n",
    "\n"
   ]
  },
  {
   "cell_type": "code",
   "execution_count": null,
   "metadata": {
    "id": "9LK0JYLQpUss"
   },
   "outputs": [],
   "source": []
  }
 ],
 "metadata": {
  "colab": {
   "collapsed_sections": [],
   "name": "QuickSort.ipynb",
   "provenance": []
  },
  "kernelspec": {
   "display_name": "Python 3 (ipykernel)",
   "language": "python",
   "name": "python3"
  },
  "language_info": {
   "codemirror_mode": {
    "name": "ipython",
    "version": 3
   },
   "file_extension": ".py",
   "mimetype": "text/x-python",
   "name": "python",
   "nbconvert_exporter": "python",
   "pygments_lexer": "ipython3",
   "version": "3.9.12"
  }
 },
 "nbformat": 4,
 "nbformat_minor": 1
}
