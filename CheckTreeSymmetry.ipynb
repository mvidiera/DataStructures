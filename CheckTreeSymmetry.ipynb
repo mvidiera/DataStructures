{
 "cells": [
  {
   "cell_type": "code",
   "execution_count": 1,
   "id": "1d5fcae4",
   "metadata": {},
   "outputs": [
    {
     "name": "stdout",
     "output_type": "stream",
     "text": [
      "Symmetric\n"
     ]
    }
   ],
   "source": [
    "class Node:\n",
    " \n",
    "    # Utility function to create new node\n",
    "    def __init__(self, key):\n",
    "        self.key = key\n",
    "        self.left = None\n",
    "        self.right = None\n",
    " \n",
    "# Returns True if trees\n",
    "#with roots as root1 and root 2  are mirror\n",
    " \n",
    " \n",
    "def isMirror(root1, root2):\n",
    "    # If both trees are empty, then they are mirror images\n",
    "    if root1 is None and root2 is None:\n",
    "        return True\n",
    " \n",
    "    \"\"\" For two trees to be mirror images,\n",
    "        the following three conditions must be true\n",
    "        1 - Their root node's key must be same\n",
    "        2 - left subtree of left tree and right subtree\n",
    "          of the right tree have to be mirror images\n",
    "        3 - right subtree of left tree and left subtree\n",
    "           of right tree have to be mirror images\n",
    "    \"\"\"\n",
    "    if (root1 is not None and root2 is not None):\n",
    "        if root1.key == root2.key:\n",
    "            return (isMirror(root1.left, root2.right)and\n",
    "                    isMirror(root1.right, root2.left))\n",
    " \n",
    "    # If none of the above conditions is true then root1\n",
    "    # and root2 are not mirror images\n",
    "    return False\n",
    " \n",
    " \n",
    "def isSymmetric(root):\n",
    " \n",
    "    # Check if tree is mirror of itself\n",
    "    return isMirror(root, root)\n",
    " \n",
    " \n",
    "# Driver Code\n",
    "# Let's construct the tree show in the above figure\n",
    "root = Node(1)\n",
    "root.left = Node(2)\n",
    "root.right = Node(2)\n",
    "root.left.left = Node(3)\n",
    "root.left.right = Node(4)\n",
    "root.right.left = Node(4)\n",
    "root.right.right = Node(3)\n",
    "print (\"Symmetric\" if isSymmetric(root) == True else \"Not symmetric\")"
   ]
  },
  {
   "cell_type": "code",
   "execution_count": null,
   "id": "326ba8ba",
   "metadata": {},
   "outputs": [],
   "source": []
  }
 ],
 "metadata": {
  "kernelspec": {
   "display_name": "Python 3 (ipykernel)",
   "language": "python",
   "name": "python3"
  },
  "language_info": {
   "codemirror_mode": {
    "name": "ipython",
    "version": 3
   },
   "file_extension": ".py",
   "mimetype": "text/x-python",
   "name": "python",
   "nbconvert_exporter": "python",
   "pygments_lexer": "ipython3",
   "version": "3.9.12"
  }
 },
 "nbformat": 4,
 "nbformat_minor": 5
}
