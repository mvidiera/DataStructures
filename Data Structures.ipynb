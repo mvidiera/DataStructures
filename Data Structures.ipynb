{
 "cells": [
  {
   "cell_type": "markdown",
   "id": "4b1a554a",
   "metadata": {},
   "source": [
    "## Linear search\n",
    "\n",
    "- Search element is looked within array in linear fashion. (one by one) \n",
    "- If present, it returns index of that search element. \n",
    "- If not, then -1 will be returned."
   ]
  },
  {
   "cell_type": "code",
   "execution_count": 1,
   "id": "2eea2837",
   "metadata": {},
   "outputs": [
    {
     "name": "stdout",
     "output_type": "stream",
     "text": [
      "Index of Search element is  4\n"
     ]
    }
   ],
   "source": [
    "def linearsearch( arr,search_element, n):\n",
    "    for i in range(n):\n",
    "        if arr[i] == search_element:\n",
    "            return i\n",
    "        # end of if stmt. \n",
    "    #if element is not present, this stays in for loop\n",
    "    return -1\n",
    "\n",
    "\n",
    "\n",
    "arr = [1,45,67,4,9,8,6,25]\n",
    "search_element= 9\n",
    "n= len(arr)\n",
    "\n",
    "result= linearsearch( arr,search_element, n )\n",
    "print(\"Index of Search element is \", result)"
   ]
  },
  {
   "cell_type": "code",
   "execution_count": 2,
   "id": "b54aaf8f",
   "metadata": {},
   "outputs": [
    {
     "name": "stdout",
     "output_type": "stream",
     "text": [
      "Index of Search element is  -1\n"
     ]
    }
   ],
   "source": [
    "search_element= 100\n",
    "result= linearsearch( arr,search_element, n )\n",
    "print(\"Index of Search element is \", result)"
   ]
  },
  {
   "cell_type": "markdown",
   "id": "4cf257fd",
   "metadata": {},
   "source": [
    "- Here we have just one for loop \n",
    "- for loop runs from 0 to n-1, where n is length of array. \n",
    "- Time Complexity: O(n) for worst and average case"
   ]
  },
  {
   "cell_type": "markdown",
   "id": "ce135e9b",
   "metadata": {},
   "source": [
    "## Binary Search\n",
    "\n",
    "- Applicable only when the array is sorted\n",
    "- Mid index is calculated, given base address and length of array \n",
    "- If search element is more than arr[mid] then, left part is discarded. Same process is applicable to left side of the array if element is lesser than arr[mid]\n",
    "- If arr[mid] is not equal to search element, againg right part is divided using mid index and the process is repeated until the element is found. \n",
    "- if element is not present then return -1. \n",
    "- If search element is present in array more than one time\n"
   ]
  },
  {
   "cell_type": "code",
   "execution_count": 3,
   "id": "d9dda503",
   "metadata": {},
   "outputs": [
    {
     "name": "stdout",
     "output_type": "stream",
     "text": [
      "search item is present int the index 6\n"
     ]
    }
   ],
   "source": [
    "#binary search using recurssion technique\n",
    "# time complexity O(log n)\n",
    "\n",
    "\n",
    "def binarysearch(array, i, j, x):\n",
    "#if there is single element\n",
    "# time complexity when the array element is 1. then constant time complexity O(1)\n",
    "    if i==j:\n",
    "        if array[i]== x:\n",
    "            return i\n",
    "        else:\n",
    "            return -1\n",
    "        \n",
    "        \n",
    "\n",
    "    else: #number of array item is greater than 1\n",
    "        mid= i + (j-i)//2\n",
    "        \n",
    "        if array[mid] == x: #1st condition\n",
    "            return mid\n",
    "        elif array[mid]< x: #2nd condition- move to right side of array\n",
    "            return binarysearch(array, mid+1 , j, x) #apply reccursive function\n",
    "        else:\n",
    "            return binarysearch(array, i, mid-1, x) #apply reccursive function\n",
    "\n",
    "\n",
    "\n",
    "\n",
    "# Driver code\n",
    "array = [10,20,30,40,50,60,70,80]\n",
    "i= 0\n",
    "j= len(array)-1\n",
    "x= 70\n",
    "result = binarysearch(array, i, j, x)\n",
    "print(\"search item is present int the index\", result)\n"
   ]
  },
  {
   "cell_type": "code",
   "execution_count": 4,
   "id": "62e68a14",
   "metadata": {},
   "outputs": [
    {
     "name": "stdout",
     "output_type": "stream",
     "text": [
      "search item is present int the index -1\n"
     ]
    }
   ],
   "source": [
    "x= 9\n",
    "result = binarysearch(array, i, j, x)\n",
    "print(\"search item is present int the index\", result)"
   ]
  },
  {
   "cell_type": "markdown",
   "id": "9252bfc7",
   "metadata": {},
   "source": [
    "### Time complexity\n",
    "\n",
    "1. We have 3 scenarios. When array has just one element. When array has 2 elements, within this: element being greater than mid and element being lesser than mid. \n",
    "2. 1st condition: T(n) = O(1)= 1 or constant time complexity\n",
    "3. 2nd condition: T(n) = T(n/2) +1\n",
    "\n",
    "\n",
    "Explained in notes"
   ]
  },
  {
   "cell_type": "code",
   "execution_count": 5,
   "id": "0a81de39",
   "metadata": {},
   "outputs": [],
   "source": [
    "#binary search using without recurssion technique, using iterative approach\n"
   ]
  },
  {
   "cell_type": "markdown",
   "id": "21501092",
   "metadata": {},
   "source": [
    "### Search in row wise and column wise matrix so that time complexity is O(n)\n",
    "\n",
    "- explained in notes"
   ]
  },
  {
   "cell_type": "code",
   "execution_count": 6,
   "id": "8134be69",
   "metadata": {},
   "outputs": [
    {
     "name": "stdout",
     "output_type": "stream",
     "text": [
      "5\n"
     ]
    }
   ],
   "source": [
    "#just check\n",
    "m = [[1,4,7,11,15],[2,5,8,12,19],[3,6,9,16,22],[10,13,14,17,24],[18,21,23,26,30]]\n",
    "print(len(m))\n",
    "#this prints number of columns"
   ]
  },
  {
   "cell_type": "code",
   "execution_count": 7,
   "id": "9ed4f049",
   "metadata": {},
   "outputs": [
    {
     "name": "stdout",
     "output_type": "stream",
     "text": [
      "Result is: True\n"
     ]
    }
   ],
   "source": [
    "def Search2DSortedMatrix(matrix, target):\n",
    "    i = 0\n",
    "    j = len(matrix[0])- 1 #take 1st row of matrix and find length it is 5, -1 because of index\n",
    "    n = len(matrix)\n",
    "    #number of rows in a matrix. n is used in while loop \n",
    "\n",
    "\n",
    "#time complexity of while loop worse case is O(n)\n",
    "    while(i< n and j>=0):\n",
    "        if matrix[i][j] == target:\n",
    "            return True\n",
    "        elif(matrix[i][j]> target):\n",
    "            j -= 1   #j= j-1\n",
    "        else:# this condition is if matrix[i][j]< target\n",
    "            i +=1    #i= i+1      \n",
    "    return False\n",
    "\n",
    "\n",
    "matrix = [[1,4,7,11,15],[2,5,8,12,19],[3,6,9,16,22],[10,13,14,17,24],[18,21,23,26,30]] # make sure this matrix is sorted\n",
    "# in this case it is column wise sorted, so we will loop on columns. \n",
    "\n",
    "target = 5 #item to be searched\n",
    "\n",
    "result = Search2DSortedMatrix(matrix, target)\n",
    "print(\"Result is:\", result)\n"
   ]
  },
  {
   "cell_type": "markdown",
   "id": "3730c4c2",
   "metadata": {},
   "source": [
    "## Sorting Algorithms \n",
    "\n",
    "### Comparision based sorting Algorithms\n",
    "1. Selection sort\n",
    "2. Bubble Sort\n",
    "3. Insertion sort\n",
    "4. Quick \n",
    "5. Merge \n",
    "6. Heap\n",
    "\n",
    "### Non Comprision based sorting Algorithms\n",
    "1. Count sort\n",
    "2. Radix Sort\n",
    "3. Bucket sort\n"
   ]
  },
  {
   "cell_type": "markdown",
   "id": "8f2f26e6",
   "metadata": {},
   "source": [
    "### 1. Selection sort\n",
    "\n",
    "- i = 0: first element\n",
    "- min_index = 0  Considering the minimum element as the first one. This holds just index\n",
    "- j = i+1: 2nd element\n",
    "- For loop for i and get the min index as 0. Second time it will be 1 and so on \n",
    "- Running for loop for j starting from 2nd (i+1) element till the end of the element \n",
    "- array[j] < array[min_index]: change the min_index to j \n",
    "- This way, 1st and 2nd element is compared. if 2nd is lesser, it will be swapped. Else same. \n"
   ]
  },
  {
   "cell_type": "code",
   "execution_count": 20,
   "id": "b73838ff",
   "metadata": {},
   "outputs": [
    {
     "name": "stdout",
     "output_type": "stream",
     "text": [
      "[2, 11, 16, 21, 25, 38, 44, 50, 99] "
     ]
    }
   ],
   "source": [
    "def SelectionSort(array): \n",
    "    for i in range(len(array)):\n",
    "        min_index= i\n",
    "        for j in range(i+1,len(array)):\n",
    "            if array[j] < array[min_index]:\n",
    "                min_index= j        \n",
    "        array[i], array[min_index] = array[min_index], array[i] #swapping\n",
    "    return array\n",
    "    \n",
    "\n",
    "#driver code\n",
    "array= [50,25,38,44,99,16,11,21,2]\n",
    "result= SelectionSort(array)\n",
    "print(result, end = \" \")"
   ]
  },
  {
   "cell_type": "code",
   "execution_count": 18,
   "id": "c4cb5ea5",
   "metadata": {},
   "outputs": [
    {
     "name": "stdout",
     "output_type": "stream",
     "text": [
      "The array after sorting in Ascending Order by selection sort is:\n",
      "[-202, -97, -9, -2, 0, 11, 45, 88, 747]\n"
     ]
    }
   ],
   "source": [
    "def selectionSort(array, size):\n",
    "    \n",
    "    for i in range(size):\n",
    "        min_index = i\n",
    " \n",
    "        for j in range(i + 1, size):\n",
    "            # select the minimum element in every iteration\n",
    "            if array[j] < array[min_index]:\n",
    "                min_index = j\n",
    "         # swapping the elements to sort the array\n",
    "        (array[i], array[min_index]) = (array[min_index], array[i])\n",
    " \n",
    "arr = [-2, 45, 0, 11, -9,88,-97,-202,747]\n",
    "size = len(arr)\n",
    "selectionSort(arr, size)\n",
    "print('The array after sorting in Ascending Order by selection sort is:')\n",
    "print(arr)"
   ]
  },
  {
   "cell_type": "markdown",
   "id": "9dabc226",
   "metadata": {},
   "source": [
    "### Selection sort time complexity\n",
    "#### For comparisions\n",
    "\n",
    "- 2 for loops:O(n²)\n",
    "- if condition: O(n)\n",
    "\n",
    "- Overall time complexity is **O(n²)**\n",
    "\n",
    "#### For swaps\n",
    "- for pass 1: 1 swap, for pass 2: 1 swap.... total is n-1\n",
    "- \n",
    "- swap value: **O(n)**"
   ]
  },
  {
   "cell_type": "markdown",
   "id": "543d0218",
   "metadata": {},
   "source": [
    "### 2. Bubble sort\n",
    "\n"
   ]
  },
  {
   "cell_type": "code",
   "execution_count": 24,
   "id": "dde8a5dd",
   "metadata": {},
   "outputs": [
    {
     "name": "stdout",
     "output_type": "stream",
     "text": [
      "Sorted array after applying bubble sort technique is \n",
      " [5, 15, 20, 30, 50, 70, 90]\n"
     ]
    }
   ],
   "source": [
    "def bubblesort(array):\n",
    "    n= len(array)\n",
    "    \n",
    "    for i in range(n-1): # or we can take till n \n",
    "        for j in range(n-i-1): # last i items are already sorted\n",
    "            if array[j]> array[j+1]:\n",
    "                array[j], array[j+1] = array[j+1], array[j] #swapping elements\n",
    "                \n",
    "    return array\n",
    "    \n",
    "    \n",
    "#driver code\n",
    "array= [70,20,50,30,90,5,15]\n",
    "result= bubblesort(array)\n",
    "print(\"Sorted array after applying bubble sort technique is \\n\", result)   #, end = \" \")"
   ]
  },
  {
   "cell_type": "markdown",
   "id": "92c0f339",
   "metadata": {},
   "source": [
    "### Time cpmplexity of bubble sort\n",
    "- 2 for loops: **O(n²)**\n",
    "    \n",
    "    \n",
    "### Space complexity \n",
    "- no extra space is required. \n",
    "- Constant space complexity\n",
    "- O(1)"
   ]
  },
  {
   "cell_type": "markdown",
   "id": "8d332add",
   "metadata": {},
   "source": [
    "### 3. Insertion sort\n"
   ]
  },
  {
   "cell_type": "code",
   "execution_count": 28,
   "id": "26315952",
   "metadata": {},
   "outputs": [
    {
     "name": "stdout",
     "output_type": "stream",
     "text": [
      "Array sorted using insertion sort \n",
      " [7, 50, 75, 85, 90, 95, 100, 110]\n"
     ]
    }
   ],
   "source": [
    "def insertionsort(array):\n",
    "    for i in range(1, len(array)):\n",
    "        value= array[i]\n",
    "        j= i-1\n",
    "        \n",
    "        \n",
    "        while j>=0 and value< array[j]:\n",
    "            array[j+1] = array[j]\n",
    "            j= j-1 \n",
    "        array[j+1]= value\n",
    "    return array\n",
    "\n",
    "#driver code\n",
    "\n",
    "array= [75,90,100,95,85,50,110,7]\n",
    "result = insertionsort(array)\n",
    "print(\"Array sorted using insertion sort \\n\", result)"
   ]
  },
  {
   "cell_type": "code",
   "execution_count": null,
   "id": "52a6f2d7",
   "metadata": {},
   "outputs": [],
   "source": []
  }
 ],
 "metadata": {
  "kernelspec": {
   "display_name": "Python 3 (ipykernel)",
   "language": "python",
   "name": "python3"
  },
  "language_info": {
   "codemirror_mode": {
    "name": "ipython",
    "version": 3
   },
   "file_extension": ".py",
   "mimetype": "text/x-python",
   "name": "python",
   "nbconvert_exporter": "python",
   "pygments_lexer": "ipython3",
   "version": "3.9.12"
  }
 },
 "nbformat": 4,
 "nbformat_minor": 5
}
