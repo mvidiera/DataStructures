{
 "cells": [
  {
   "cell_type": "markdown",
   "id": "b6ea3ba0",
   "metadata": {},
   "source": [
    "#### constraints: n > = 1, a> =2\n"
   ]
  },
  {
   "cell_type": "code",
   "execution_count": 5,
   "id": "ea789d48",
   "metadata": {},
   "outputs": [
    {
     "name": "stdout",
     "output_type": "stream",
     "text": [
      "power of element is:  9223372036854775808\n"
     ]
    }
   ],
   "source": [
    "\n",
    "def DAC_power(a,n):\n",
    "    #for small problem where n=1 or a=1\n",
    "    if n == 1:\n",
    "        return a #also after dividing large problem into smallest where a=1, then return a \n",
    "    else:\n",
    "    #it is big problem, use divide and conquer technique \n",
    "        mid = n//2\n",
    "        b = DAC_power(a,mid)\n",
    "        # **imp**  I dont want to re calculate right side, so I will multiply twice \n",
    "        c = b * b\n",
    "    \n",
    "        # to check if n is odd or even \n",
    "        if n % 2 == 0: #if power is even\n",
    "            return c\n",
    "        else: # if power is odd\n",
    "            return c * a\n",
    "\n",
    "\n",
    "\n",
    "\n",
    "# driver code\n",
    "a=2\n",
    "n=63\n",
    "result = DAC_power(a,n)\n",
    "print(\"power of element is: \", result)"
   ]
  },
  {
   "cell_type": "markdown",
   "id": "ce13b5c5",
   "metadata": {},
   "source": [
    "### Merge Sort \n",
    "- Suppose m- size of1st sub array and n- size of 2nd sub array. N= m+n\n",
    "- Number of comparisions\n",
    "- best case: min(m,n)\n",
    "- Worse case: O(m+n) = O(N)\n",
    "\n",
    "\n",
    "#### Time complexity\n",
    "- Time complexity = number of comparision + sort \n",
    "- O(n. logn)\n",
    "- Explained in notes \n",
    "\n"
   ]
  },
  {
   "cell_type": "markdown",
   "id": "26b26a5e",
   "metadata": {},
   "source": [
    "### Steps\n",
    "\n",
    "#### Dividing array \n",
    "\n",
    "1. if array has more than 1 element\n",
    "2. Divide array into 2 sub arrays\n",
    "3. Copy the contents of 2 sub arrays in temp array called L and R\n",
    "4. Call reccursive function for L and R\n",
    "5. Till here: array will be subdivided till the last iteration where length of array is 1. \n",
    "----------\n",
    "#### Conquer: MergeProcedure\n",
    "\n",
    "6. Consider 3 pointers. i- 1st sub array, j- 2nd sub array and k for temp array which holds the sorted elements\n",
    "7. Run loop until length of L and R becomes 0. Using while loop. \n",
    "8. if left array element is lesser: copy that to arr[k]. Left is chosen so increment i pointer\n",
    "9. If right array element is lesser: copy that to arr[k]. Right is chosen so increment j pointer\n",
    "10. After that increment k pointer after if else statement. That is, k is incremented in every comaprison of course. As I am copying least element in k pointer. \n",
    "11. CHeck if any of element is left out in L and R\n",
    "12. How? in explaination, what I have done is to copy and paste the pre sorted sub array.\n",
    "13. In last iteration one of the sub array is sorted C2 and that is given as input to C1 and unsorted array C3.\n",
    "14. That is.. C1-- C2+ C3. \n",
    "15. In this case C2 is already sorted. How to check this condition: if arr[k] = L[i] then increment i and k. If it is equal means it is already sorted. While arr[k] is sorted array \n",
    "16. Similarly for arr[k] = R[j]\n"
   ]
  },
  {
   "cell_type": "code",
   "execution_count": 9,
   "id": "664bc7d0",
   "metadata": {},
   "outputs": [
    {
     "name": "stdout",
     "output_type": "stream",
     "text": [
      "Given array is \n",
      "40 20 40 90 88 11 13 \n"
     ]
    },
    {
     "ename": "IndexError",
     "evalue": "list index out of range",
     "output_type": "error",
     "traceback": [
      "\u001b[1;31m---------------------------------------------------------------------------\u001b[0m",
      "\u001b[1;31mIndexError\u001b[0m                                Traceback (most recent call last)",
      "Input \u001b[1;32mIn [9]\u001b[0m, in \u001b[0;36m<cell line: 49>\u001b[1;34m()\u001b[0m\n\u001b[0;32m     52\u001b[0m \u001b[38;5;28mprint\u001b[39m(\u001b[38;5;124m\"\u001b[39m\u001b[38;5;124mGiven array is \u001b[39m\u001b[38;5;124m\"\u001b[39m, end\u001b[38;5;241m=\u001b[39m \u001b[38;5;124m\"\u001b[39m\u001b[38;5;130;01m\\n\u001b[39;00m\u001b[38;5;124m\"\u001b[39m)\n\u001b[0;32m     53\u001b[0m printlist(arr)\n\u001b[1;32m---> 55\u001b[0m \u001b[43mmergesort\u001b[49m\u001b[43m(\u001b[49m\u001b[43marr\u001b[49m\u001b[43m)\u001b[49m\n\u001b[0;32m     57\u001b[0m \u001b[38;5;28mprint\u001b[39m(\u001b[38;5;124m\"\u001b[39m\u001b[38;5;124mSorted array using merge sort is: \u001b[39m\u001b[38;5;130;01m\\n\u001b[39;00m\u001b[38;5;124m\"\u001b[39m)\n\u001b[0;32m     59\u001b[0m printlist(arr)\n",
      "Input \u001b[1;32mIn [9]\u001b[0m, in \u001b[0;36mmergesort\u001b[1;34m(arr)\u001b[0m\n\u001b[0;32m      4\u001b[0m L\u001b[38;5;241m=\u001b[39m arr[:mid]\n\u001b[0;32m      5\u001b[0m R\u001b[38;5;241m=\u001b[39m arr[mid:]\n\u001b[1;32m----> 7\u001b[0m \u001b[43mmergesort\u001b[49m\u001b[43m(\u001b[49m\u001b[43mL\u001b[49m\u001b[43m)\u001b[49m\n\u001b[0;32m      8\u001b[0m mergesort(R)\n\u001b[0;32m     10\u001b[0m \u001b[38;5;66;03m# MERGE PROCEDURE\u001b[39;00m\n\u001b[0;32m     11\u001b[0m \u001b[38;5;66;03m# new function is not considered like mergeprocedure \u001b[39;00m\n\u001b[0;32m     12\u001b[0m \u001b[38;5;66;03m#initialising pointers\u001b[39;00m\n",
      "Input \u001b[1;32mIn [9]\u001b[0m, in \u001b[0;36mmergesort\u001b[1;34m(arr)\u001b[0m\n\u001b[0;32m     18\u001b[0m         i \u001b[38;5;241m=\u001b[39m i\u001b[38;5;241m+\u001b[39m \u001b[38;5;241m1\u001b[39m\n\u001b[0;32m     20\u001b[0m     \u001b[38;5;28;01melse\u001b[39;00m:\n\u001b[1;32m---> 21\u001b[0m         arr[k] \u001b[38;5;241m=\u001b[39m \u001b[43mL\u001b[49m\u001b[43m[\u001b[49m\u001b[43mj\u001b[49m\u001b[43m]\u001b[49m\n\u001b[0;32m     22\u001b[0m         j\u001b[38;5;241m=\u001b[39m j\u001b[38;5;241m+\u001b[39m \u001b[38;5;241m1\u001b[39m\n\u001b[0;32m     25\u001b[0m \u001b[38;5;28;01mwhile\u001b[39;00m i\u001b[38;5;241m<\u001b[39m \u001b[38;5;28mlen\u001b[39m(L):\n",
      "\u001b[1;31mIndexError\u001b[0m: list index out of range"
     ]
    }
   ],
   "source": [
    "\n",
    "\n",
    "def mergesort(arr):\n",
    "    if len(arr)> 1:\n",
    "        mid = len(arr)//2\n",
    "        L= arr[:mid]\n",
    "        R= arr[mid:]\n",
    "        \n",
    "        mergesort(L)\n",
    "        mergesort(R)\n",
    "        \n",
    "        # MERGE PROCEDURE\n",
    "        # new function is not considered like mergeprocedure \n",
    "        #initialising pointers\n",
    "        i = j= k= 0\n",
    "        \n",
    "        while i < len(L) and j < len(R):\n",
    "            if L[i] < R[j]:\n",
    "                arr[k] = L[i]\n",
    "                i = i+ 1\n",
    "            \n",
    "            else:\n",
    "                arr[k] = L[j]\n",
    "                j= j+ 1\n",
    "            \n",
    "        \n",
    "        while i< len(L):\n",
    "            arr[k] = L[i]\n",
    "            i = i+1\n",
    "            k= k+1\n",
    "            \n",
    "            \n",
    "        while j < len(R):\n",
    "            arr[k]= R[j]\n",
    "            j= j+1\n",
    "            k= k+1\n",
    "            \n",
    "                \n",
    "            \n",
    "            \n",
    "# to print list\n",
    "def printlist(arr):\n",
    "    for i in range(len(arr)):\n",
    "        print(arr[i], end = \" \")\n",
    "    print()\n",
    "            \n",
    "        \n",
    "        \n",
    "#driver code\n",
    "\n",
    "if __name__  == '__main__':\n",
    "    arr = [40,20,40,90,88,11,13]\n",
    "    \n",
    "    print(\"Given array is \", end= \"\\n\")\n",
    "    printlist(arr)\n",
    "    \n",
    "    mergesort(arr)\n",
    "    \n",
    "    print(\"Sorted array using merge sort is: \\n\")\n",
    "    \n",
    "    printlist(arr)\n",
    "            \n",
    "            \n",
    "            "
   ]
  },
  {
   "cell_type": "code",
   "execution_count": 10,
   "id": "7f2906f7",
   "metadata": {},
   "outputs": [
    {
     "name": "stdout",
     "output_type": "stream",
     "text": [
      "Given array is\n",
      "50 20 40 90 88 11 13 \n",
      "Sorted array is: \n",
      "11 13 20 40 50 88 90 \n"
     ]
    }
   ],
   "source": [
    "# Python program for implementation of MergeSort\n",
    "def mergeSort(arr):\n",
    "  ## Moving Top to Bottom in a Recursive Tree -> Whiteboard\n",
    "\tif len(arr) > 1:\n",
    "    # Finding the mid of the array\n",
    "\t\tmid = len(arr)//2\n",
    "    # Dividing the array elements into two halves\n",
    "    # Left Subtree\n",
    "\t\tL = arr[:mid]\n",
    "\t\t# Right Subtree\n",
    "\t\tR = arr[mid:]\n",
    "\t\t# Sorting the first half(Left Subtree)\n",
    "\t\tmergeSort(L)    # Recursive Call\n",
    "\t\t# Sorting the second half(Right Subtree)\n",
    "\t\tmergeSort(R)    # Recursive Call\n",
    "\n",
    "    ## Move from Bottom to Top by applying merge procedure -> Whiteboard\n",
    "\t\ti = j = k = 0\n",
    "\t\t# Copy data to temp arrays L[] and R[]\n",
    "\t\twhile i < len(L) and j < len(R):\n",
    "\t\t\tif L[i] < R[j]:\n",
    "\t\t\t\tarr[k] = L[i]\n",
    "\t\t\t\ti += 1\n",
    "\t\t\telse:\n",
    "\t\t\t\tarr[k] = R[j]\n",
    "\t\t\t\tj += 1\n",
    "\t\t\tk += 1\n",
    "\n",
    "\t\t# Checking if any element was left\n",
    "\t\twhile i < len(L):\n",
    "\t\t\tarr[k] = L[i]\n",
    "\t\t\ti += 1\n",
    "\t\t\tk += 1\n",
    "\n",
    "\t\twhile j < len(R):\n",
    "\t\t\tarr[k] = R[j]\n",
    "\t\t\tj += 1\n",
    "\t\t\tk += 1\n",
    "\n",
    "# Code to print the list\n",
    "def printList(arr):\n",
    "\tfor i in range(len(arr)):\n",
    "\t\tprint(arr[i], end=\" \")\n",
    "\tprint()\n",
    "\n",
    "\n",
    "# Driver Code\n",
    "if __name__ == '__main__':\n",
    "\tarr = [50, 20, 40, 90, 88, 11, 13]\n",
    "\tprint(\"Given array is\", end=\"\\n\")\n",
    "\tprintList(arr)\n",
    "\tmergeSort(arr)\n",
    "\tprint(\"Sorted array is: \", end=\"\\n\")\n",
    "\tprintList(arr)"
   ]
  },
  {
   "cell_type": "markdown",
   "id": "1c00f975",
   "metadata": {},
   "source": [
    "### Min Max "
   ]
  },
  {
   "cell_type": "code",
   "execution_count": 20,
   "id": "cc2e6748",
   "metadata": {},
   "outputs": [
    {
     "name": "stdout",
     "output_type": "stream",
     "text": [
      "Minimum element within the array is:  5\n",
      "Maximum element within the array is:  2435\n"
     ]
    }
   ],
   "source": [
    "def DAC_minmax(array,low,high):\n",
    "    max_value = array[low]\n",
    "    min_value = array[low]\n",
    "    \n",
    "    \n",
    "    #for small problems\n",
    "    # whennumber of element is 1\n",
    "    \n",
    "    if low == high:\n",
    "        return(max_value, min_value)\n",
    "    \n",
    "    # for 2 elements\n",
    "    elif low == high -1:\n",
    "        if array[low]> array[high]:\n",
    "            max_value = array[low]\n",
    "            min_value = array[high]\n",
    "            \n",
    "        else:\n",
    "            max_value = array[high]\n",
    "            min_value = array[low]\n",
    "            \n",
    "        return( max_value, min_value)    \n",
    "            \n",
    "    #for bigger problems: that is when the number of elements are more than 3\n",
    "    # use D&C method\n",
    "    else: \n",
    "        mid= low + (high - low) //2  # to avoid overflow\n",
    "        max_1, min_1= DAC_minmax(array,low,mid)  #return statement is max then min \n",
    "        max_2, min_2= DAC_minmax(array,mid+1,high)\n",
    "        \n",
    "    return (max(max_1,max_2), min(min_1, min_2))\n",
    "        \n",
    "        \n",
    "        \n",
    "            \n",
    "    \n",
    "\n",
    "\n",
    "\n",
    "\n",
    "\n",
    "\n",
    "#Driver code\n",
    "#array= [1,3] working\n",
    "array = [12,78,90,34,234,99,800,589,2435,5,8]\n",
    "high= len(array)-1\n",
    "low = 0\n",
    "\n",
    "max_value, min_value= DAC_minmax(array,low,high)\n",
    "\n",
    "#max_value= DAC_minmax(array,low,high)\n",
    "\n",
    "print(\"Minimum element within the array is: \", min_value)\n",
    "\n",
    "print(\"Maximum element within the array is: \", max_value)\n",
    "\n"
   ]
  },
  {
   "cell_type": "markdown",
   "id": "f600d527",
   "metadata": {},
   "source": [
    "#### Time complexity \n",
    "\n",
    "- Best case: for small problems with 1 and 2 elements-> if else conditions -> O(n)\n",
    "- Average and Worse case:\n",
    "- Calculating mid- O(n)\n",
    "- two reccursive function- 2T(n/2)\n",
    "- n/2 because array of length n is split into 2 parts\n",
    "- returning final min and max- O(1)\n",
    "##### Overall time complexity \n",
    "\n",
    "T(n) = 2T(n/2)+ c\n",
    "- Using master's theorem\n",
    "\n",
    "\n",
    "- T(n)= O(n)"
   ]
  },
  {
   "cell_type": "markdown",
   "id": "49f0f6b2",
   "metadata": {},
   "source": [
    "### Inversion count in array "
   ]
  },
  {
   "cell_type": "code",
   "execution_count": 21,
   "id": "3b6847f5",
   "metadata": {},
   "outputs": [
    {
     "name": "stdout",
     "output_type": "stream",
     "text": [
      "Number of inversions are 5\n"
     ]
    }
   ],
   "source": [
    "\n",
    " \n",
    " \n",
    "def mergeSort(arr, n):\n",
    "    # A temp_arr is created to store\n",
    "    # sorted array in merge function\n",
    "    temp_arr = [0]*n\n",
    "    return _mergeSort(arr, temp_arr, 0, n-1)\n",
    " \n",
    "# This Function will use MergeSort to count inversions\n",
    " \n",
    " \n",
    "def _mergeSort(arr, temp_arr, left, right):\n",
    " \n",
    "    # A variable inv_count is used to store\n",
    "    # inversion counts in each recursive call\n",
    " \n",
    "    inv_count = 0\n",
    " \n",
    "    # We will make a recursive call if and only if\n",
    "    # we have more than one elements\n",
    " \n",
    "    if left < right:\n",
    " \n",
    "        # mid is calculated to divide the array into two subarrays\n",
    "        # Floor division is must in case of python\n",
    " \n",
    "        mid = (left + right)//2\n",
    " \n",
    "        # It will calculate inversion\n",
    "        # counts in the left subarray\n",
    " \n",
    "        inv_count += _mergeSort(arr, temp_arr,\n",
    "                                left, mid)\n",
    " \n",
    "        # It will calculate inversion\n",
    "        # counts in right subarray\n",
    " \n",
    "        inv_count += _mergeSort(arr, temp_arr,\n",
    "                                mid + 1, right)\n",
    " \n",
    "        # It will merge two subarrays in\n",
    "        # a sorted subarray\n",
    " \n",
    "        inv_count += merge(arr, temp_arr, left, mid, right)\n",
    "    return inv_count\n",
    " \n",
    "# This function will merge two subarrays\n",
    "# in a single sorted subarray\n",
    " \n",
    " \n",
    "def merge(arr, temp_arr, left, mid, right):\n",
    "    i = left     # Starting index of left subarray\n",
    "    j = mid + 1  # Starting index of right subarray\n",
    "    k = left     # Starting index of to be sorted subarray\n",
    "    inv_count = 0\n",
    " \n",
    "    # Conditions are checked to make sure that\n",
    "    # i and j don't exceed their\n",
    "    # subarray limits.\n",
    " \n",
    "    while i <= mid and j <= right:\n",
    " \n",
    "        # There will be no inversion if arr[i] <= arr[j]\n",
    " \n",
    "        if arr[i] <= arr[j]:\n",
    "            temp_arr[k] = arr[i]\n",
    "            k += 1\n",
    "            i += 1\n",
    "        else:\n",
    "            # Inversion will occur.\n",
    "            temp_arr[k] = arr[j]\n",
    "            inv_count += (mid-i + 1)\n",
    "            k += 1\n",
    "            j += 1\n",
    " \n",
    "    # Copy the remaining elements of left\n",
    "    # subarray into temporary array\n",
    "    while i <= mid:\n",
    "        temp_arr[k] = arr[i]\n",
    "        k += 1\n",
    "        i += 1\n",
    " \n",
    "    # Copy the remaining elements of right\n",
    "    # subarray into temporary array\n",
    "    while j <= right:\n",
    "        temp_arr[k] = arr[j]\n",
    "        k += 1\n",
    "        j += 1\n",
    " \n",
    "    # Copy the sorted subarray into Original array\n",
    "    for loop_var in range(left, right + 1):\n",
    "        arr[loop_var] = temp_arr[loop_var]\n",
    " \n",
    "    return inv_count\n",
    " \n",
    " \n",
    "# Driver Code\n",
    "# Given array is\n",
    "arr = [1, 20, 6, 4, 5]\n",
    "n = len(arr)\n",
    "result = mergeSort(arr, n)\n",
    "print(\"Number of inversions are\", result)"
   ]
  },
  {
   "cell_type": "markdown",
   "id": "e94e9388",
   "metadata": {},
   "source": [
    "## Quicksort"
   ]
  },
  {
   "cell_type": "code",
   "execution_count": 55,
   "id": "ecf617a5",
   "metadata": {},
   "outputs": [],
   "source": [
    "def partition(arr, low, high): # low: lower index, high: high index\n",
    "    pivot = arr[low] #first element is considered as pivot\n",
    "    i = low  # moving index \n",
    "    \n",
    "    \n",
    "    # if arr[j] is greater then do nothing but increment j \n",
    "    for j in range( low+1, high+1):\n",
    "        if arr[j] <= pivot: \n",
    "            i+=1\n",
    "            arr[i], arr[j] = arr[j], arr[i]  #swap i and j \n",
    "            \n",
    "    #this is out of if statement.        \n",
    "    # this is the last step where, Im swapping pivot and arr[i]\n",
    "    arr[i] , arr[low] = arr[low], arr[i]  \n",
    "    return i \n",
    "\n",
    "# i holds the index value of pivot\n",
    "        \n",
    "    \n",
    "#error:\n",
    "#arr[i], arr[j] == arr[j], arr[i]\n",
    "#instead of single = I typed == and I wasnt getting sorted array"
   ]
  },
  {
   "cell_type": "code",
   "execution_count": 56,
   "id": "c42d20db",
   "metadata": {},
   "outputs": [
    {
     "data": {
      "text/plain": [
       "2"
      ]
     },
     "execution_count": 56,
     "metadata": {},
     "output_type": "execute_result"
    }
   ],
   "source": [
    "# jsut to check partional function\n",
    "\n",
    "a= [5,7,3,6,2,8,9,11,16]\n",
    "partition(a, 0, 8)\n",
    "\n",
    "\n",
    "# here 5 is pivot. smaller than 5 are 3 and 2. then \n",
    "# partition returns  2,3, 5,6,7 etc\n",
    "# index of 5 is 2. this is what it is returning "
   ]
  },
  {
   "cell_type": "code",
   "execution_count": 64,
   "id": "4ae049dd",
   "metadata": {},
   "outputs": [],
   "source": [
    "# function definition of Quicksort \n",
    "\n",
    "\n",
    "def Quicksort(arr,low,high):#for small problems\n",
    "    if len(arr) == 1:\n",
    "        return arr\n",
    "    \n",
    "    #for big problems\n",
    "    \n",
    "    if low < high:\n",
    "        m = partition(arr, low, high)\n",
    "        Quicksort(arr, low, m-1)\n",
    "        Quicksort(arr, m+1, high)\n",
    "\n",
    "        \n"
   ]
  },
  {
   "cell_type": "code",
   "execution_count": 65,
   "id": "1ae002e2",
   "metadata": {},
   "outputs": [],
   "source": [
    "from datetime import datetime\n",
    "\n",
    "import time"
   ]
  },
  {
   "cell_type": "code",
   "execution_count": 67,
   "id": "c05a79b6",
   "metadata": {},
   "outputs": [
    {
     "name": "stdout",
     "output_type": "stream",
     "text": [
      "[18, 27, 30, 40, 50, 69, 70, 80, 88]\n",
      "Time taken to sort array is:  0.0\n"
     ]
    }
   ],
   "source": [
    "start=time.time()\n",
    "arr= [50,70,80,30,40,88,18,27,69]\n",
    "Quicksort(arr,0,8)\n",
    "end= time.time()\n",
    "print(arr)\n",
    "print(\"Time taken to sort array is: \", (end-start)* 1000 )\n",
    "\n",
    "\n",
    "# it takes 1.3 time to sort balanced array\n",
    "\n",
    "\n"
   ]
  },
  {
   "cell_type": "code",
   "execution_count": 63,
   "id": "fe69b4cd",
   "metadata": {},
   "outputs": [
    {
     "data": {
      "text/plain": [
       "1664959824.5485523"
      ]
     },
     "execution_count": 63,
     "metadata": {},
     "output_type": "execute_result"
    }
   ],
   "source": [
    "#time.time()"
   ]
  },
  {
   "cell_type": "code",
   "execution_count": 50,
   "id": "ff4e4e43",
   "metadata": {},
   "outputs": [
    {
     "name": "stdout",
     "output_type": "stream",
     "text": [
      "[1, 2, 3, 4, 5, 6, 7, 8, 9]\n",
      "Time Taken:  0.0\n"
     ]
    }
   ],
   "source": [
    "#case I asceding order of array of 9 elements\n",
    "start = time.time()\n",
    "arr1=[1,2,3,4,5,6,7,8,9]\n",
    "Quicksort(arr1,0,8)\n",
    "end=time.time()\n",
    "print(arr1)\n",
    "print(\"Time Taken: \",(end-start)*1000)\n",
    "\n",
    "\n",
    "start = time.time()\n",
    "arr=[50,70,80,30,40,88,19,27,69]\n",
    "quickSort(arr,0,8)\n",
    "end = time.time()\n",
    "print(arr)\n",
    "print(\"Time taken : \",(end-start)*1000)"
   ]
  },
  {
   "cell_type": "code",
   "execution_count": 51,
   "id": "61a40875",
   "metadata": {},
   "outputs": [
    {
     "name": "stdout",
     "output_type": "stream",
     "text": [
      "[1, 2, 3, 4, 5, 6, 7, 8, 9]\n",
      "Time taken:  0.0\n"
     ]
    }
   ],
   "source": [
    "#case II descending order of array of 9 elements\n",
    "start = time.time()\n",
    "arr2=[9,8,7,6,5,4,3,2,1]\n",
    "Quicksort(arr2,0,8)\n",
    "end=time.time()\n",
    "print(arr2)\n",
    "print(\"Time taken: \",(end-start)*1000)"
   ]
  },
  {
   "cell_type": "code",
   "execution_count": 52,
   "id": "7c0f239f",
   "metadata": {},
   "outputs": [
    {
     "name": "stdout",
     "output_type": "stream",
     "text": [
      "[9, 9, 9, 9, 9, 9, 9, 9, 9]\n",
      "Time taken:  0.0\n"
     ]
    }
   ],
   "source": [
    "#caseIII identical element array of 9 elements\n",
    "start= time.time()\n",
    "arr3=[9,9,9,9,9,9,9,9,9]\n",
    "Quicksort(arr3,0,8)\n",
    "end=time.time()\n",
    "print(arr3)\n",
    "print(\"Time taken: \",(end-start)*1000)"
   ]
  },
  {
   "cell_type": "markdown",
   "id": "b26ce121",
   "metadata": {},
   "source": [
    "## Radomised QuickSort\n",
    "\n",
    "- Chances of getting worse case is reduced. Hence Randomised QS is prefered over classic QS. "
   ]
  },
  {
   "cell_type": "code",
   "execution_count": 68,
   "id": "cbfde585",
   "metadata": {},
   "outputs": [
    {
     "name": "stdout",
     "output_type": "stream",
     "text": [
      "\n",
      "Original list:\n",
      "[4, 3, 5, 1, 2]\n",
      "After applying Random Pivot Quick Sort the said list becomes:\n",
      "[1, 2, 3, 4, 5]\n",
      "\n",
      "Original list:\n",
      "[5, 9, 10, 3, -4, 5, 178, 92, 46, -18, 0, 7]\n",
      "After applying Random Pivot Quick Sort the said list becomes:\n",
      "[-18, -4, 0, 3, 5, 5, 7, 9, 10, 46, 92, 178]\n",
      "\n",
      "Original list:\n",
      "[1.1, 1, 0, -1, -1.1, 0.1]\n",
      "After applying Random Pivot Quick Sort the said list becomes:\n",
      "[-1.1, -1, 0, 0.1, 1, 1.1]\n",
      "\n",
      "Original list:\n",
      "[1.1, 1, 0, -1, -1.1, 0.1]\n",
      "After applying Random Pivot Quick Sort the said list becomes:\n",
      "[1.1, -1.1, -1, 0, 0.1, 1]\n",
      "\n",
      "Original list:\n",
      "['z', 'a', 'y', 'b', 'x', 'c']\n",
      "After applying Random Pivot Quick Sort the said list becomes:\n",
      "['a', 'b', 'c', 'x', 'y', 'z']\n",
      "\n",
      "Original list:\n",
      "['z', 'a', 'y', 'b', 'x', 'c']\n",
      "After applying Random Pivot Quick Sort the said list becomes:\n",
      "['z', 'a', 'b', 'c', 'x', 'y']\n"
     ]
    }
   ],
   "source": [
    "import random\n",
    "\n",
    "\n",
    "def partition(A, left_index, right_index):\n",
    "    pivot = A[left_index]\n",
    "    i = left_index + 1\n",
    "    for j in range(left_index + 1, right_index):\n",
    "        if A[j] < pivot:\n",
    "            A[j], A[i] = A[i], A[j]\n",
    "            i += 1\n",
    "    A[left_index], A[i - 1] = A[i - 1], A[left_index]\n",
    "    return i - 1\n",
    "def quick_sort_random(A, left, right):\n",
    "    if left < right:\n",
    "        pivot = random.randint(left, right - 1)\n",
    "        A[pivot], A[left] = (\n",
    "            A[left],\n",
    "            A[pivot],\n",
    "        )  # switches the pivot with the left most bound\n",
    "        pivot_index = partition(A, left, right)\n",
    "        quick_sort_random(\n",
    "            A, left, pivot_index\n",
    "        )  # recursive quicksort to the left of the pivot point\n",
    "        quick_sort_random(\n",
    "            A, pivot_index + 1, right\n",
    "        )  # recursive quicksort to the right of the pivot point\n",
    "nums = [4, 3, 5, 1, 2]\n",
    "print(\"\\nOriginal list:\")\n",
    "print(nums)\n",
    "print(\"After applying Random Pivot Quick Sort the said list becomes:\")\n",
    "quick_sort_random(nums, 0, len(nums))\n",
    "print(nums)\n",
    "nums = [5, 9, 10, 3, -4, 5, 178, 92, 46, -18, 0, 7]\n",
    "print(\"\\nOriginal list:\")\n",
    "print(nums)\n",
    "print(\"After applying Random Pivot Quick Sort the said list becomes:\")\n",
    "quick_sort_random(nums, 0, len(nums))\n",
    "print(nums)\n",
    "nums = [1.1, 1, 0, -1, -1.1, .1]\n",
    "print(\"\\nOriginal list:\")\n",
    "print(nums)\n",
    "print(\"After applying Random Pivot Quick Sort the said list becomes:\")\n",
    "quick_sort_random(nums, 0, len(nums))\n",
    "print(nums)\n",
    "nums = [1.1, 1, 0, -1, -1.1, .1]\n",
    "print(\"\\nOriginal list:\")\n",
    "print(nums)\n",
    "print(\"After applying Random Pivot Quick Sort the said list becomes:\")\n",
    "quick_sort_random(nums, 1, len(nums))\n",
    "print(nums)\n",
    "nums = ['z','a','y','b','x','c']\n",
    "print(\"\\nOriginal list:\")\n",
    "print(nums)\n",
    "print(\"After applying Random Pivot Quick Sort the said list becomes:\")\n",
    "quick_sort_random(nums, 0, len(nums))\n",
    "print(nums)\n",
    "nums = ['z','a','y','b','x','c']\n",
    "print(\"\\nOriginal list:\")\n",
    "print(nums)\n",
    "print(\"After applying Random Pivot Quick Sort the said list becomes:\")\n",
    "quick_sort_random(nums, 2, len(nums))\n",
    "print(nums)"
   ]
  },
  {
   "cell_type": "code",
   "execution_count": null,
   "id": "4c0c190f",
   "metadata": {},
   "outputs": [],
   "source": [
    "pivot = random.randint(left, right - 1)"
   ]
  }
 ],
 "metadata": {
  "kernelspec": {
   "display_name": "Python 3 (ipykernel)",
   "language": "python",
   "name": "python3"
  },
  "language_info": {
   "codemirror_mode": {
    "name": "ipython",
    "version": 3
   },
   "file_extension": ".py",
   "mimetype": "text/x-python",
   "name": "python",
   "nbconvert_exporter": "python",
   "pygments_lexer": "ipython3",
   "version": "3.9.12"
  }
 },
 "nbformat": 4,
 "nbformat_minor": 5
}
