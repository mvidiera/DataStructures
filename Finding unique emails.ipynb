{
 "cells": [
  {
   "cell_type": "markdown",
   "id": "a62dd9d9",
   "metadata": {},
   "source": [
    "### Unique email address\n",
    "\n",
    "- Rule 1: ignore period (.) and forward all emails to the original ine without dot\n",
    "- Rule2: Ignore everything after + and forward all emails to the original one without +\n",
    "- These rules are just applied to local name and not to hostname like gmail.com\n",
    "- test.email+melissa@gmail.com will be--- testemail@gmail.com\n",
    "- test.e.mail+melissa.whisky@gmail.com, will be --- testemail@gmail.com\n",
    "- testemail+coco@in.gmail.com, will be --- testemail@in.gmail.com"
   ]
  },
  {
   "cell_type": "code",
   "execution_count": 3,
   "id": "e75235a1",
   "metadata": {},
   "outputs": [
    {
     "name": "stdout",
     "output_type": "stream",
     "text": [
      "Number of unique email addresses are  2\n"
     ]
    }
   ],
   "source": [
    "def uniqueEmails(emails):\n",
    "    unique_emails = set()\n",
    "    \n",
    "    \n",
    "    for email in emails:\n",
    "        #left part of email will be stored in left side, rigth has the domain name\n",
    "        local_name, domain_name = email.split('@')\n",
    "        # after + I am ignoring all and replace . with empty (not space) rule 1 and 2 in same \n",
    "        local_rule = local_name.split('+')[0].replace('.','') \n",
    "        unique_emails.add(local_rule + \"@\" + domain_name)\n",
    "        \n",
    "    return len(unique_emails)\n",
    "\n",
    "\n",
    "\n",
    "\n",
    "#driver\n",
    "\n",
    "emails = [\"test.email+melissa@gmail.com\", \"test.e.mail+melissa.whisky@gmail.com\",\n",
    "         \"testemail+coco@in.gmail.com\"]\n",
    "count= uniqueEmails(emails)\n",
    "print(\"Number of unique email addresses are \", count)"
   ]
  },
  {
   "cell_type": "code",
   "execution_count": 4,
   "id": "b8911604",
   "metadata": {},
   "outputs": [
    {
     "ename": "NameError",
     "evalue": "name 'local_name' is not defined",
     "output_type": "error",
     "traceback": [
      "\u001b[1;31m---------------------------------------------------------------------------\u001b[0m",
      "\u001b[1;31mNameError\u001b[0m                                 Traceback (most recent call last)",
      "Input \u001b[1;32mIn [4]\u001b[0m, in \u001b[0;36m<cell line: 1>\u001b[1;34m()\u001b[0m\n\u001b[1;32m----> 1\u001b[0m \u001b[43mlocal_name\u001b[49m\n",
      "\u001b[1;31mNameError\u001b[0m: name 'local_name' is not defined"
     ]
    }
   ],
   "source": [
    "local_name# run in spyder, I will get all details about local, domain name, local rule in terminal"
   ]
  },
  {
   "cell_type": "code",
   "execution_count": null,
   "id": "2df0fa6c",
   "metadata": {},
   "outputs": [],
   "source": []
  }
 ],
 "metadata": {
  "kernelspec": {
   "display_name": "Python 3 (ipykernel)",
   "language": "python",
   "name": "python3"
  },
  "language_info": {
   "codemirror_mode": {
    "name": "ipython",
    "version": 3
   },
   "file_extension": ".py",
   "mimetype": "text/x-python",
   "name": "python",
   "nbconvert_exporter": "python",
   "pygments_lexer": "ipython3",
   "version": "3.9.12"
  }
 },
 "nbformat": 4,
 "nbformat_minor": 5
}
